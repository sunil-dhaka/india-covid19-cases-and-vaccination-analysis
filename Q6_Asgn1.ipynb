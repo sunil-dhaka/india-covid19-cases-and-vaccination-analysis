{
 "cells": [
  {
   "cell_type": "markdown",
   "metadata": {},
   "source": [
    "#### Importing modules"
   ]
  },
  {
   "cell_type": "code",
   "execution_count": 23,
   "metadata": {},
   "outputs": [],
   "source": [
    "import json \n",
    "import pandas as pd\n",
    "import numpy as np"
   ]
  },
  {
   "cell_type": "markdown",
   "metadata": {},
   "source": [
    "#### Read cowin csv file"
   ]
  },
  {
   "cell_type": "code",
   "execution_count": 24,
   "metadata": {
    "scrolled": true
   },
   "outputs": [],
   "source": [
    "data=pd.read_csv('cowin_vaccine_data_districtwise.csv')"
   ]
  },
  {
   "cell_type": "markdown",
   "metadata": {},
   "source": [
    "#### Read census data xlsx file"
   ]
  },
  {
   "cell_type": "code",
   "execution_count": 25,
   "metadata": {},
   "outputs": [],
   "source": [
    "cols=['State', 'District','Level',\n",
    "       'Name', 'TRU','TOT_P', 'TOT_M', 'TOT_F']\n",
    "census_data=pd.read_excel('DDW_PCA0000_2011_Indiastatedist.xlsx',usecols=cols)\n",
    "#only considering total rather than rural and urban seperately for this question\n",
    "census_data=census_data.loc[(census_data['TRU']=='Total') & (census_data['Level']=='DISTRICT')]\n",
    "census_data['Name_Lower']=0\n",
    "census_data['update_step']=np.nan\n",
    "census_data.reset_index(inplace=True,drop=True)"
   ]
  },
  {
   "cell_type": "markdown",
   "metadata": {},
   "source": [
    "#### Load modified json file from Q1"
   ]
  },
  {
   "cell_type": "code",
   "execution_count": 26,
   "metadata": {},
   "outputs": [
    {
     "name": "stderr",
     "output_type": "stream",
     "text": [
      "/tmp/ipykernel_24351/2911079101.py:3: ResourceWarning: unclosed file <_io.TextIOWrapper name='neighbor-districts-modified.json' mode='r' encoding='UTF-8'>\n",
      "  f=open('neighbor-districts-modified.json')\n",
      "ResourceWarning: Enable tracemalloc to get the object allocation traceback\n"
     ]
    }
   ],
   "source": [
    "## district level\n",
    "# district data from json\n",
    "f=open('neighbor-districts-modified.json')\n",
    "districts_data=json.load(f)\n",
    "district_names=[]\n",
    "district_ids=[]\n",
    "for key in districts_data:\n",
    "    district_names.append(key.split('/')[0])\n",
    "    district_ids.append(key.split('/')[1])"
   ]
  },
  {
   "cell_type": "markdown",
   "metadata": {},
   "source": [
    "#### Editdist function for strings"
   ]
  },
  {
   "cell_type": "code",
   "execution_count": 27,
   "metadata": {},
   "outputs": [],
   "source": [
    "def editdist(str1, str2): \n",
    "    m = len(str1)\n",
    "    n = len(str2)\n",
    "    # Create a table to store results of subproblems\n",
    "    \n",
    "    dp = [[0 for x in range(n + 1)] for x in range(m + 1)] \n",
    "  \n",
    "    # Fill d[][] in bottom up manner \n",
    "    for i in range(m + 1): \n",
    "        for j in range(n + 1): \n",
    "  \n",
    "            # If first string is empty, only option is to \n",
    "            # insert all characters of second string \n",
    "            if i == 0: \n",
    "                dp[i][j] = j    # Min. operations = j \n",
    "  \n",
    "            # If second string is empty, only option is to \n",
    "            # remove all characters of second string \n",
    "            elif j == 0: \n",
    "                dp[i][j] = i    # Min. operations = i \n",
    "  \n",
    "            # If last characters are same, ignore last char \n",
    "            # and recur for remaining string \n",
    "            elif str1[i-1] == str2[j-1]: \n",
    "                dp[i][j] = dp[i-1][j-1] \n",
    "  \n",
    "            # If last character are different, consider all \n",
    "            # possibilities and find minimum \n",
    "            else: \n",
    "                dp[i][j] = 1 + min(dp[i][j-1],        # Insert \n",
    "                                   dp[i-1][j],        # Remove \n",
    "                                   dp[i-1][j-1])    # Replace \n",
    "    #print(dp)\n",
    "    return dp[m][n] "
   ]
  },
  {
   "cell_type": "code",
   "execution_count": 28,
   "metadata": {},
   "outputs": [],
   "source": [
    "#dropping duplicate names from the cowin file\n",
    "for i in range(len(district_ids)):\n",
    "    dis=district_ids[i]\n",
    "    if dis == 'MH_Aurangabad' or dis == 'CT_Bilaspur' or dis == 'UP_Hamirpur' or dis == 'CT_Balrampur' or dis == 'RJ_Pratapgarh':\n",
    "        district_ids[i]='ItIs_ADuplicatedDistrict'"
   ]
  },
  {
   "cell_type": "markdown",
   "metadata": {},
   "source": [
    "#### Getting common districts and updating census file district names"
   ]
  },
  {
   "cell_type": "code",
   "execution_count": 29,
   "metadata": {},
   "outputs": [
    {
     "name": "stdout",
     "output_type": "stream",
     "text": [
      "CPU times: user 1.44 s, sys: 0 ns, total: 1.44 s\n",
      "Wall time: 1.44 s\n"
     ]
    }
   ],
   "source": [
    "%%time\n",
    "# get common districts with editdist\n",
    "common_districts=[]\n",
    "common_districts_list=[]\n",
    "counter_list=np.zeros(len(district_ids))\n",
    "for i in range(len(district_ids)):\n",
    "    k=0\n",
    "    a=district_ids[i].lower().split('_')\n",
    "    for j in range(census_data.shape[0]):\n",
    "        b=census_data['Name'][j].lower()\n",
    "        if a[1].replace(' ','')==b.replace(' ','') and (district_ids[i] not in common_districts_list) and counter_list[i]==0:  \n",
    "            counter_list[i]=1\n",
    "            k=1\n",
    "            common_districts.append(a[1])\n",
    "            common_districts_list.append(district_ids[i])\n",
    "            census_data.iloc[j,8]=district_ids[i]\n",
    "            census_data.iloc[j,9]=1\n",
    "            break\n",
    "    if k==0:\n",
    "        common_districts.append('#')\n",
    "        common_districts_list.append('#')\n",
    "            "
   ]
  },
  {
   "cell_type": "code",
   "execution_count": 30,
   "metadata": {},
   "outputs": [
    {
     "name": "stdout",
     "output_type": "stream",
     "text": [
      "CPU times: user 2.96 s, sys: 0 ns, total: 2.96 s\n",
      "Wall time: 2.96 s\n"
     ]
    }
   ],
   "source": [
    "%%time\n",
    "for j in range(census_data.shape[0]):\n",
    "    b=census_data.Name_Lower[j]\n",
    "    if b==0:\n",
    "        b=census_data.Name[j].lower()\n",
    "        for i in range(len(district_ids)):\n",
    "            a=district_ids[i].lower().split('_')\n",
    "            if (editdist(b.replace(' ',''),a[1].replace(' ',''))<2) and (b[0]==a[1][0]) and (counter_list[i]==0):\n",
    "                common_districts[i]=a[1]\n",
    "                common_districts_list[i]=district_ids[i]\n",
    "                census_data.iloc[j,8]=district_ids[i]\n",
    "                census_data.iloc[j,9]=2\n",
    "                counter_list[i]==1\n",
    "                break\n"
   ]
  },
  {
   "cell_type": "code",
   "execution_count": 31,
   "metadata": {},
   "outputs": [
    {
     "name": "stdout",
     "output_type": "stream",
     "text": [
      "CPU times: user 2.56 s, sys: 0 ns, total: 2.56 s\n",
      "Wall time: 2.57 s\n"
     ]
    }
   ],
   "source": [
    "%%time\n",
    "for j in range(census_data.shape[0]):\n",
    "    b=census_data.Name_Lower[j]\n",
    "    if b==0:\n",
    "        b=census_data.Name[j].lower()\n",
    "        for i in range(len(district_ids)):\n",
    "            a=district_ids[i].lower().split('_')\n",
    "            if (editdist(b.replace(' ',''),a[1].replace(' ',''))<3) and (b[0]==a[1][0])  and (counter_list[i]==0):\n",
    "                common_districts[i]=a[1]\n",
    "                common_districts_list[i]=district_ids[i]\n",
    "                census_data.iloc[j,8]=district_ids[i]\n",
    "                census_data.iloc[j,9]=3\n",
    "                counter_list[i]=1\n",
    "                break"
   ]
  },
  {
   "cell_type": "markdown",
   "metadata": {},
   "source": [
    "#### Prepare data frames for female and male vaccine numbers\n"
   ]
  },
  {
   "cell_type": "code",
   "execution_count": 32,
   "metadata": {},
   "outputs": [],
   "source": [
    "# let's change those column names\n",
    "#date==datetime.date(2021,8,14)\n",
    "data_dose1=data.loc[:,(data.loc[0,]=='Female(Individuals Vaccinated)')].iloc[1:,:].fillna(0)\n",
    "first_date_dose1=data_dose1.iloc[:,0]\n",
    "data_dose1=data_dose1.astype(int).diff(axis=1)\n",
    "data_dose1.iloc[:,0]=first_date_dose1\n",
    "data_dose1['District']=data['District_Key']\n",
    "data_dose2=data.loc[:,(data.loc[0,]=='Male(Individuals Vaccinated)')].iloc[1:,:].fillna(0)\n",
    "first_date_dose2=data_dose2.iloc[:,0]\n",
    "data_dose2=data_dose2.astype(int).diff(axis=1)\n",
    "data_dose2.iloc[:,0]=first_date_dose2\n",
    "data_dose2['District']=data['District_Key']\n",
    "## Just keep in mind that dose1 represents female and other one male doses"
   ]
  },
  {
   "cell_type": "markdown",
   "metadata": {},
   "source": [
    "#### To get asked dates binary list\n"
   ]
  },
  {
   "cell_type": "code",
   "execution_count": 33,
   "metadata": {},
   "outputs": [],
   "source": [
    "import datetime\n",
    "true_false_female=[]\n",
    "for key in data_dose1.columns[:-1]:\n",
    "    changed_key=key.split('.')[0].split('/')\n",
    "    true_false_female.append(datetime.date(int(changed_key[2]),int(changed_key[1]),int(changed_key[0]))<datetime.date(2021,8,15))\n",
    "    \n",
    "true_false_female.append(False)\n",
    "\n",
    "true_false_male=[]\n",
    "for key in data_dose2.columns[:-1]:\n",
    "    changed_key=key.split('.')[0].split('/')\n",
    "    true_false_male.append(datetime.date(int(changed_key[2]),int(changed_key[1]),int(changed_key[0]))<datetime.date(2021,8,15))\n",
    "    \n",
    "true_false_male.append(False)"
   ]
  },
  {
   "cell_type": "markdown",
   "metadata": {},
   "source": [
    "### Districts"
   ]
  },
  {
   "cell_type": "markdown",
   "metadata": {},
   "source": [
    "#### Counts female and male doses for districts"
   ]
  },
  {
   "cell_type": "code",
   "execution_count": 34,
   "metadata": {},
   "outputs": [],
   "source": [
    "district_female_male=[]\n",
    "male_count=[]\n",
    "female_count=[]\n",
    "for i in range(len(common_districts_list)):\n",
    "    a=common_districts_list[i]\n",
    "    for j in range(data_dose1.shape[0]):\n",
    "        if a==data_dose1['District'][j+1]:\n",
    "            district_female_male.append(a)\n",
    "            female_count.append(data_dose1.loc[data_dose1['District']==a, np.array(true_false_female)].astype(int).sum().sum())\n",
    "            male_count.append(data_dose2.loc[data_dose2['District']==a, np.array(true_false_male)].astype(int).sum().sum())\n",
    "            break"
   ]
  },
  {
   "cell_type": "markdown",
   "metadata": {},
   "source": [
    "#### Counts female and male population for districts"
   ]
  },
  {
   "cell_type": "code",
   "execution_count": 35,
   "metadata": {},
   "outputs": [],
   "source": [
    "total_male=[]\n",
    "total_female=[]\n",
    "district_male_female_pop=[]\n",
    "for i in range(len(common_districts_list)):\n",
    "    a=common_districts_list[i]\n",
    "    for j in range(census_data.shape[0]):\n",
    "        if a==census_data.iloc[j,8]:\n",
    "            district_male_female_pop.append(a)\n",
    "            total_female.append(census_data.iloc[j,7].astype(int))\n",
    "            total_male.append(census_data.iloc[j,6].astype(int))\n",
    "            break"
   ]
  },
  {
   "cell_type": "markdown",
   "metadata": {},
   "source": [
    "#### Compute ratios"
   ]
  },
  {
   "cell_type": "code",
   "execution_count": 36,
   "metadata": {},
   "outputs": [],
   "source": [
    "vaccinationratio=[i/j for i,j in zip(female_count,male_count)]\n",
    "populationratio=[i/j for i,j in zip(total_female,total_male)]\n",
    "ratioofratios=[i/j for i,j in zip(vaccinationratio,populationratio)]"
   ]
  },
  {
   "cell_type": "markdown",
   "metadata": {},
   "source": [
    "#### Write in csv file"
   ]
  },
  {
   "cell_type": "code",
   "execution_count": 37,
   "metadata": {},
   "outputs": [],
   "source": [
    "ratio_df=pd.DataFrame({ 'districtid':district_female_male, 'vaccinationratio':vaccinationratio, 'populationratio':populationratio, 'ratioofratios':ratioofratios})\n",
    "ratio_df.sort_values('ratioofratios', axis = 0, ascending = True, kind='mergesort',inplace=True)\n",
    "ratio_df.reset_index(inplace=True,drop=True)\n",
    "ratio_df.to_csv('district-vaccination-population-ratio.csv',index=False)"
   ]
  },
  {
   "cell_type": "markdown",
   "metadata": {},
   "source": [
    "### States"
   ]
  },
  {
   "cell_type": "markdown",
   "metadata": {},
   "source": [
    "- [x] To avoid extra counting of population for districts that are not being considered, I have used districts df obtained above to work on states.\n",
    "\n",
    "\n"
   ]
  },
  {
   "cell_type": "code",
   "execution_count": 38,
   "metadata": {},
   "outputs": [],
   "source": [
    "use_df=pd.DataFrame({'districtid':district_female_male,'female_dose':female_count,'male_dose':male_count,'female_pop':total_female,'male_pop':total_male})"
   ]
  },
  {
   "cell_type": "code",
   "execution_count": 39,
   "metadata": {},
   "outputs": [],
   "source": [
    "state_list=[]\n",
    "for i in range(len(district_female_male)):\n",
    "    state_list.append(district_female_male[i].split('_')[0])\n",
    "use_df['stateid']=state_list\n",
    "unique_state=np.unique(np.array(use_df.stateid))"
   ]
  },
  {
   "cell_type": "markdown",
   "metadata": {},
   "source": [
    "#### Counts female and male doses and population for states"
   ]
  },
  {
   "cell_type": "code",
   "execution_count": 40,
   "metadata": {},
   "outputs": [],
   "source": [
    "state_female_dose=[]\n",
    "state_male_dose=[]\n",
    "state_female_pop=[]\n",
    "state_male_pop=[]\n",
    "for i in range(len(unique_state)):\n",
    "    foo_df=use_df[use_df.stateid==unique_state[i]]\n",
    "    state_female_dose.append(sum(foo_df.female_dose.tolist()))\n",
    "    state_male_dose.append(sum(foo_df.male_dose.tolist()))\n",
    "    state_female_pop.append(sum(foo_df.female_pop.tolist()))\n",
    "    state_male_pop.append(sum(foo_df.male_pop.tolist()))"
   ]
  },
  {
   "cell_type": "markdown",
   "metadata": {},
   "source": [
    "#### Compute ratios"
   ]
  },
  {
   "cell_type": "code",
   "execution_count": 41,
   "metadata": {},
   "outputs": [],
   "source": [
    "vaccinationratio=[i/j for i,j in zip(state_female_dose,state_male_dose)]\n",
    "populationratio=[i/j for i,j in zip(state_female_pop,state_male_pop)]\n",
    "ratioofratios=[i/j for i,j in zip(vaccinationratio,populationratio)]"
   ]
  },
  {
   "cell_type": "markdown",
   "metadata": {},
   "source": [
    "#### write in csvs"
   ]
  },
  {
   "cell_type": "code",
   "execution_count": 42,
   "metadata": {},
   "outputs": [],
   "source": [
    "ratio_df_state=pd.DataFrame({ 'stateid':unique_state, 'vaccinationratio':vaccinationratio, 'populationratio':populationratio, 'ratioofratios':ratioofratios})\n",
    "ratio_df_state.sort_values('ratioofratios', axis = 0, ascending = True, kind='mergesort',inplace=True)\n",
    "ratio_df_state.reset_index(inplace=True,drop=True)\n",
    "ratio_df_state.to_csv('state-vaccination-population-ratio.csv',index=False)"
   ]
  },
  {
   "cell_type": "markdown",
   "metadata": {},
   "source": [
    "### Overall"
   ]
  },
  {
   "cell_type": "code",
   "execution_count": 43,
   "metadata": {},
   "outputs": [],
   "source": [
    "vaccinationratio=sum(state_female_dose)/sum(state_male_dose)\n",
    "populationratio=sum(state_female_pop)/sum(state_male_pop)\n",
    "ratioofratios=vaccinationratio/populationratio"
   ]
  },
  {
   "cell_type": "code",
   "execution_count": 44,
   "metadata": {},
   "outputs": [],
   "source": [
    "ratio_df_overall=pd.DataFrame({ 'overallid':['IN'], 'vaccinationratio':[vaccinationratio], 'populationratio':[populationratio], 'ratioofratios':[ratioofratios]})\n",
    "ratio_df_overall.to_csv('overall-vaccination-population-ratio.csv',index=False)"
   ]
  }
 ],
 "metadata": {
  "kernelspec": {
   "display_name": "Python 3 (ipykernel)",
   "language": "python",
   "name": "python3"
  },
  "language_info": {
   "codemirror_mode": {
    "name": "ipython",
    "version": 3
   },
   "file_extension": ".py",
   "mimetype": "text/x-python",
   "name": "python",
   "nbconvert_exporter": "python",
   "pygments_lexer": "ipython3",
   "version": "3.8.5"
  }
 },
 "nbformat": 4,
 "nbformat_minor": 4
}
