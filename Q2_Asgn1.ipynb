{
 "cells": [
  {
   "cell_type": "markdown",
   "metadata": {},
   "source": [
    "#### Import modules"
   ]
  },
  {
   "cell_type": "code",
   "execution_count": 1,
   "metadata": {},
   "outputs": [],
   "source": [
    "import json \n",
    "import pandas as pd\n",
    "import numpy as np"
   ]
  },
  {
   "cell_type": "markdown",
   "metadata": {},
   "source": [
    "#### Load json outfile from Q1"
   ]
  },
  {
   "cell_type": "code",
   "execution_count": 2,
   "metadata": {},
   "outputs": [],
   "source": [
    "# to open json file\n",
    "f=open('neighbor-districts-modified.json')\n",
    "# this function basically stores json type files into python dictionary\n",
    "data=json.load(f)"
   ]
  },
  {
   "cell_type": "markdown",
   "metadata": {},
   "source": [
    "#### Construct an undirected graph of districts"
   ]
  },
  {
   "cell_type": "code",
   "execution_count": 3,
   "metadata": {},
   "outputs": [],
   "source": [
    "dist_alphabet=[]\n",
    "for key in data:\n",
    "    dist_alphabet.append(key)\n",
    "dist_alphabet=np.array(dist_alphabet)\n",
    "dist_alphabet.sort()\n",
    "\n",
    "state_district_codes=[]\n",
    "for i in range(len(dist_alphabet)):\n",
    "    state_district_codes.append(dist_alphabet[i].split('/')[1])\n",
    "\n",
    "first_edge_list=[]\n",
    "second_edge_list=[]\n",
    "\n",
    "for i in range(len(dist_alphabet)):\n",
    "    for j in range(len(data[dist_alphabet[i]])):\n",
    "        first_edge_list.append(state_district_codes[i])\n",
    "        second_edge_list.append(data[dist_alphabet[i]][j].split('/')[1])\n",
    "        \n",
    "edge_graph_dict={\"First District\":first_edge_list,\"Second District\":second_edge_list}\n",
    "edge_graph_df=pd.DataFrame(edge_graph_dict)"
   ]
  },
  {
   "cell_type": "markdown",
   "metadata": {},
   "source": [
    "#### Write edge graph csv"
   ]
  },
  {
   "cell_type": "code",
   "execution_count": 7,
   "metadata": {},
   "outputs": [],
   "source": [
    "# use to_csv to creat csv file with specific name\n",
    "edge_graph_df.sort_values(\"First District\",axis=0,ascending=True, inplace=True, kind='mergesort')\n",
    "edge_graph_df.reset_index(inplace=True,drop=True)\n",
    "edge_graph_df.to_csv(\"edge-graph.csv\",index=False)"
   ]
  }
 ],
 "metadata": {
  "kernelspec": {
   "display_name": "Python 3 (ipykernel)",
   "language": "python",
   "name": "python3"
  },
  "language_info": {
   "codemirror_mode": {
    "name": "ipython",
    "version": 3
   },
   "file_extension": ".py",
   "mimetype": "text/x-python",
   "name": "python",
   "nbconvert_exporter": "python",
   "pygments_lexer": "ipython3",
   "version": "3.8.5"
  }
 },
 "nbformat": 4,
 "nbformat_minor": 4
}
