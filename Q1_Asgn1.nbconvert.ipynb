{
 "cells": [
  {
   "cell_type": "markdown",
   "metadata": {},
   "source": [
    "#### Import modules"
   ]
  },
  {
   "cell_type": "code",
   "execution_count": 1,
   "metadata": {
    "execution": {
     "iopub.execute_input": "2021-09-21T11:37:36.437903Z",
     "iopub.status.busy": "2021-09-21T11:37:36.437181Z",
     "iopub.status.idle": "2021-09-21T11:37:36.668906Z",
     "shell.execute_reply": "2021-09-21T11:37:36.668296Z"
    }
   },
   "outputs": [],
   "source": [
    "import json # we will be needing json module\n",
    "import pandas as pd\n",
    "import numpy as np"
   ]
  },
  {
   "cell_type": "markdown",
   "metadata": {},
   "source": [
    "#### Load given json file"
   ]
  },
  {
   "cell_type": "code",
   "execution_count": 2,
   "metadata": {
    "execution": {
     "iopub.execute_input": "2021-09-21T11:37:36.677453Z",
     "iopub.status.busy": "2021-09-21T11:37:36.677042Z",
     "iopub.status.idle": "2021-09-21T11:37:36.678325Z",
     "shell.execute_reply": "2021-09-21T11:37:36.678701Z"
    }
   },
   "outputs": [],
   "source": [
    "# how do you open an json file\n",
    "# opening json file\n",
    "f=open(\"neighbor-districts.json\")\n",
    "\n",
    "# json.load() returns json object as dictionary\n",
    "data_dict=json.load(f)\n",
    "\n",
    "# list of districts - sample entry: churu/Q1090006\n",
    "district_id_list=[] # it is an empty list\n",
    "for i in data_dict:\n",
    "    district_id_list.append(i)\n",
    "district_id_list=np.array(district_id_list) # store list into numpy array\n",
    "\n",
    "# sort districts alphabatically\n",
    "district_id_list.sort()\n",
    "\n",
    "# district names - sample entry: churu\n",
    "district_names_from_json=[] \n",
    "\n",
    "# district ids - sample entry: Q1090006\n",
    "district_ids_from_json=[]\n",
    "\n",
    "#use split() function and specify the separator '/' . Remember default seperator is whitspace\n",
    "for i in range(len(district_id_list)):\n",
    "    district_names_from_json.append(district_id_list[i].split(\"/\")[0])\n",
    "    district_ids_from_json.append(district_id_list[i].split(\"/\")[1])"
   ]
  },
  {
   "cell_type": "markdown",
   "metadata": {},
   "source": [
    "#### Manual name modification of around $25$ districts "
   ]
  },
  {
   "cell_type": "markdown",
   "metadata": {},
   "source": [
    "- [x] Also removing '_' seprater and replace it with ' '(whitespace)\n",
    "- [x] Remove '_distrcit' type discrepencies from the end of district names"
   ]
  },
  {
   "cell_type": "code",
   "execution_count": 3,
   "metadata": {
    "execution": {
     "iopub.execute_input": "2021-09-21T11:37:36.691707Z",
     "iopub.status.busy": "2021-09-21T11:37:36.680531Z",
     "iopub.status.idle": "2021-09-21T11:37:36.692963Z",
     "shell.execute_reply": "2021-09-21T11:37:36.693335Z"
    }
   },
   "outputs": [],
   "source": [
    "# modified list of district names - \n",
    "district_names_from_json_modified=[]\n",
    "\n",
    "for i in range(len(district_names_from_json)):\n",
    "    # discrepencies are taken from internet manually and sources\n",
    "    # districts that are being avoided [from json]\n",
    "    if district_names_from_json[i] == 'jyotiba_phule_nagar':\n",
    "        district_names_from_json_modified.append('amroha')\n",
    "    elif district_names_from_json[i] == 'sant_ravidas_nagar':\n",
    "        district_names_from_json_modified.append('bhadohi')\n",
    "    elif district_names_from_json[i] == 'bijapur_district':\n",
    "        district_names_from_json_modified.append('vijayapura')\n",
    "    elif district_names_from_json[i] == 'hugli':\n",
    "        district_names_from_json_modified.append('hooghly')\n",
    "    elif district_names_from_json[i] == 'sri_ganganagar':\n",
    "        district_names_from_json_modified.append('ganganagar')\n",
    "    elif district_names_from_json[i] == 'the_dangs':\n",
    "        district_names_from_json_modified.append('dang')\n",
    "    elif district_names_from_json[i] == 'kheri':\n",
    "        district_names_from_json_modified.append('lakhimpur kheri')\n",
    "    elif district_names_from_json[i] == 'palghat':\n",
    "        district_names_from_json_modified.append('palakkad')\n",
    "    elif district_names_from_json[i] == 'faizabad':\n",
    "        district_names_from_json_modified.append('ayodhya')\n",
    "    elif district_names_from_json[i] == 'baleshwar':\n",
    "        district_names_from_json_modified.append('balasore')\n",
    "    elif district_names_from_json[i] == 'ysr':\n",
    "        district_names_from_json_modified.append('y.s.r. kadapa')\n",
    "    elif district_names_from_json[i] == 'purbi_singhbhum':\n",
    "        district_names_from_json_modified.append('east singhbhum')\n",
    "    elif district_names_from_json[i] == 'pashchimi_singhbhum':\n",
    "        district_names_from_json_modified.append('west singhbhum')\n",
    "    elif district_names_from_json[i] == 'purba_champaran':\n",
    "        district_names_from_json_modified.append('east champaran')\n",
    "    elif district_names_from_json[i] == 'pashchim_champaran':\n",
    "        district_names_from_json_modified.append('west champaran')\n",
    "    elif district_names_from_json[i] == 'sri_potti_sriramulu_nellore':\n",
    "        district_names_from_json_modified.append('s.p.s. nellore')\n",
    "    elif district_names_from_json[i] == 'muktsar':\n",
    "        district_names_from_json_modified.append('sri muktsar sahib')\n",
    "    elif district_names_from_json[i] == 'dantewada':\n",
    "        district_names_from_json_modified.append('dakshin bastar dantewada')\n",
    "    elif district_names_from_json[i] == 'kochbihar':\n",
    "        district_names_from_json_modified.append('cooch behar')\n",
    "    elif district_names_from_json[i] == 'tirunelveli_kattabo':\n",
    "        district_names_from_json_modified.append('tirunelveli')\n",
    "    elif district_names_from_json[i] == 'kaimur_(bhabua)':\n",
    "        district_names_from_json_modified.append('kaimur')\n",
    "    elif district_names_from_json[i] == 'tirunelveli_kattabo':\n",
    "        district_names_from_json_modified.append('tirunelveli')\n",
    "    elif district_names_from_json[i] == 'sahibzada_ajit_singh_nagar':\n",
    "        district_names_from_json_modified.append('s.a.s. nagar')\n",
    "    elif district_names_from_json[i] == 'sonapur':\n",
    "        district_names_from_json_modified.append('subarnapur')\n",
    "    elif district_names_from_json[i] == 'east_karbi_anglong':\n",
    "        district_names_from_json_modified.append('karbi anglong')\n",
    "    elif district_names_from_json[i] == 'the_nilgiris_district':\n",
    "        district_names_from_json_modified.append('nilgiris')\n",
    "    elif district_names_from_json[i] == 'bid':\n",
    "        district_names_from_json_modified.append('beed')\n",
    "    elif district_names_from_json[i] == 'baudh':\n",
    "        district_names_from_json_modified.append('boudh')\n",
    "    else:\n",
    "        district_names_from_json_modified.append(district_names_from_json[i])\n",
    "    # to remove '_district' type discrepencies: notice that '_district' is 8 letters long\n",
    "    if len(district_names_from_json_modified[-1])>9 and district_names_from_json_modified[-1][-9:]=='_district':\n",
    "        district_names_from_json_modified[-1]=district_names_from_json[i][:-9]\n",
    "    \n",
    "    # now to remove '_' with whitspace\n",
    "    for j in range(len(district_names_from_json_modified[-1])):\n",
    "        if district_names_from_json_modified[-1][j]==\"_\":\n",
    "            district_names_from_json_modified[-1]=district_names_from_json_modified[-1][:j]+\" \"+district_names_from_json_modified[-1][j+1:]"
   ]
  },
  {
   "cell_type": "markdown",
   "metadata": {},
   "source": [
    "#### Read Cowin csv file with only necessary columns"
   ]
  },
  {
   "cell_type": "code",
   "execution_count": 4,
   "metadata": {
    "execution": {
     "iopub.execute_input": "2021-09-21T11:37:36.697033Z",
     "iopub.status.busy": "2021-09-21T11:37:36.696641Z",
     "iopub.status.idle": "2021-09-21T11:37:36.786803Z",
     "shell.execute_reply": "2021-09-21T11:37:36.786378Z"
    }
   },
   "outputs": [],
   "source": [
    "cols=['State_Code', 'State', 'District_Key', 'Cowin Key', 'District']\n",
    "cowin_data=pd.read_csv('cowin_vaccine_data_districtwise.csv',usecols=cols)\n",
    "cowin_data=cowin_data.iloc[1:,:]\n",
    "cowin_data['District']=cowin_data['District'].str.lower()"
   ]
  },
  {
   "cell_type": "code",
   "execution_count": 5,
   "metadata": {
    "execution": {
     "iopub.execute_input": "2021-09-21T11:37:36.791135Z",
     "iopub.status.busy": "2021-09-21T11:37:36.790740Z",
     "iopub.status.idle": "2021-09-21T11:37:36.792449Z",
     "shell.execute_reply": "2021-09-21T11:37:36.792819Z"
    }
   },
   "outputs": [],
   "source": [
    "cowin_data = cowin_data.sort_values(\"District\", axis = 0, ascending = True, kind='mergesort', inplace = False, na_position ='last')\n",
    "cowin_data.reset_index(inplace=True)"
   ]
  },
  {
   "cell_type": "markdown",
   "metadata": {},
   "source": [
    "#### Read districts\n",
    "- [x] **Ignored:** Chengalpattu, Gaurela Pendra Marwahi, Nicobars, North and Middle Andaman, Saraikela-Kharsawan,\n",
    "    South Andaman, Tenkasi, Tirupathur, Yanam\n",
    "- [x] used district _key **to capture same districts names in different states** such as:\n",
    "- [x] Aurangabad, Bilaspur, Balrampur, Hamirpur, Pratapgarh\n"
   ]
  },
  {
   "cell_type": "code",
   "execution_count": 6,
   "metadata": {
    "execution": {
     "iopub.execute_input": "2021-09-21T11:37:36.817999Z",
     "iopub.status.busy": "2021-09-21T11:37:36.794567Z",
     "iopub.status.idle": "2021-09-21T11:37:36.819707Z",
     "shell.execute_reply": "2021-09-21T11:37:36.819307Z"
    }
   },
   "outputs": [],
   "source": [
    "State = []\n",
    "District = []\n",
    "State_District = []\n",
    "\n",
    "for i in range(cowin_data.shape[0]):\n",
    "    dis=cowin_data['District'][i]\n",
    "    '''Chengalpattu, Gaurela Pendra Marwahi, Nicobars, North and Middle Andaman, Saraikela-Kharsawan,\n",
    "    South Andaman, Tenkasi, Tirupathur, Yanam\n",
    "    '''\n",
    "    if (dis == 'tenkasi' or dis == 'yanam' or dis == 'tirupathur' or dis == 'nicobars' or dis == 'north and middle andaman' \n",
    "    or dis == 'saraikela-kharsawan' or dis == 'gaurela pendra marwahi' or dis == 'chengalpattu' or dis == 'south andaman'):\n",
    "        continue\n",
    "    # avioding repeat districts names \n",
    "    if cowin_data['District_Key'][i] not in State_District:\n",
    "        State.append(cowin_data['State'][i])\n",
    "        District.append(cowin_data['District'][i])\n",
    "        State_District.append(cowin_data['District_Key'][i])\n"
   ]
  },
  {
   "cell_type": "markdown",
   "metadata": {},
   "source": [
    "#### Editdist function for strings"
   ]
  },
  {
   "cell_type": "code",
   "execution_count": 7,
   "metadata": {
    "execution": {
     "iopub.execute_input": "2021-09-21T11:37:36.825207Z",
     "iopub.status.busy": "2021-09-21T11:37:36.824682Z",
     "iopub.status.idle": "2021-09-21T11:37:36.826553Z",
     "shell.execute_reply": "2021-09-21T11:37:36.826140Z"
    }
   },
   "outputs": [],
   "source": [
    "def editdist(str1, str2): \n",
    "    m = len(str1)\n",
    "    n = len(str2)\n",
    "    # Create a table to store results of subproblems\n",
    "    dp = [[0 for x in range(n + 1)] for x in range(m + 1)] \n",
    "  \n",
    "    # Fill d[][] in bottom up manner \n",
    "    for i in range(m + 1): \n",
    "        for j in range(n + 1): \n",
    "  \n",
    "            # If first string is empty, only option is to \n",
    "            # insert all characters of second string \n",
    "            if i == 0: \n",
    "                dp[i][j] = j    # Min. operations = j \n",
    "  \n",
    "            # If second string is empty, only option is to \n",
    "            # remove all characters of second string \n",
    "            elif j == 0: \n",
    "                dp[i][j] = i    # Min. operations = i \n",
    "  \n",
    "            # If last characters are same, ignore last char \n",
    "            # and recur for remaining string \n",
    "            elif str1[i-1] == str2[j-1]: \n",
    "                dp[i][j] = dp[i-1][j-1] \n",
    "  \n",
    "            # If last character are different, consider all \n",
    "            # possibilities and find minimum \n",
    "            else: \n",
    "                dp[i][j] = 1 + min(dp[i][j-1],        # Insert \n",
    "                                   dp[i-1][j],        # Remove \n",
    "                                   dp[i-1][j-1])    # Replace \n",
    "    #print(dp)\n",
    "    return dp[m][n] "
   ]
  },
  {
   "cell_type": "markdown",
   "metadata": {},
   "source": [
    "#### Getting list of updated district names with district_keys\n",
    "- [x] Also gives new districts that need to be added"
   ]
  },
  {
   "cell_type": "code",
   "execution_count": 8,
   "metadata": {
    "execution": {
     "iopub.execute_input": "2021-09-21T11:37:36.904737Z",
     "iopub.status.busy": "2021-09-21T11:37:36.879347Z",
     "iopub.status.idle": "2021-09-21T11:37:38.065653Z",
     "shell.execute_reply": "2021-09-21T11:37:38.065280Z"
    }
   },
   "outputs": [],
   "source": [
    "district_names_from_portal_updated=[]\n",
    "state_district_names_from_portal_updated=[]\n",
    "state_names_from_portal_updated=[]\n",
    "new_district_check=np.zeros(len(District))\n",
    "for i in range(len(district_names_from_json_modified)):\n",
    "    k=0\n",
    "    for j in range(len(District)):\n",
    "        if district_names_from_json_modified[i]==District[j] and new_district_check[j]==0:#don't forget to make lower case\n",
    "            district_names_from_portal_updated.append(District[j])\n",
    "            state_names_from_portal_updated.append(State[j])\n",
    "            state_district_names_from_portal_updated.append(State_District[j])\n",
    "            new_district_check[j]=1\n",
    "            k=1\n",
    "            break\n",
    "    if k==0:\n",
    "        district_names_from_portal_updated.append('#')\n",
    "        state_names_from_portal_updated.append('#')\n",
    "        state_district_names_from_portal_updated.append('#')\n",
    "        \n",
    "for i in range(len(district_names_from_json_modified)):\n",
    "    if district_names_from_portal_updated[i]=='#':\n",
    "        for j in range(len(District)):\n",
    "            if editdist(district_names_from_json_modified[i],District[j])<4 and District[j][0]==district_names_from_json_modified[i][0] and new_district_check[j]==0:\n",
    "                district_names_from_portal_updated[i]=District[j]\n",
    "                state_names_from_portal_updated[i]=State[j]\n",
    "                state_district_names_from_portal_updated[i]=State_District[j]\n",
    "                new_district_check[j]=1\n",
    "                break\n",
    "\n",
    "new_district_names_from_portal=[]\n",
    "new_state_names_from_portal=[]\n",
    "new_state_district_names_from_portal=[]\n",
    "for i in range(len(District)):\n",
    "    if new_district_check[i]==0:\n",
    "        new_district_names_from_portal.append(District[i])\n",
    "        new_state_names_from_portal.append(State[i])\n",
    "        new_state_district_names_from_portal.append(State_District[i])"
   ]
  },
  {
   "cell_type": "code",
   "execution_count": 9,
   "metadata": {
    "execution": {
     "iopub.execute_input": "2021-09-21T11:37:38.072350Z",
     "iopub.status.busy": "2021-09-21T11:37:38.071989Z",
     "iopub.status.idle": "2021-09-21T11:37:38.074250Z",
     "shell.execute_reply": "2021-09-21T11:37:38.074604Z"
    }
   },
   "outputs": [
    {
     "data": {
      "text/plain": [
       "['lakshadweep', 'mumbai', 'ranipet']"
      ]
     },
     "execution_count": 1,
     "metadata": {},
     "output_type": "execute_result"
    }
   ],
   "source": [
    "new_district_names_from_portal # new districts to add from cowin dataset"
   ]
  },
  {
   "cell_type": "markdown",
   "metadata": {},
   "source": [
    "#### Manual Addition of some districts"
   ]
  },
  {
   "cell_type": "markdown",
   "metadata": {},
   "source": [
    "- [x] Ranipet, Mumbai, Lakshadweep\n",
    "- [x] As **delhi** is given in seperate parts in both cowin dataset and districts json. Did not merge them."
   ]
  },
  {
   "cell_type": "code",
   "execution_count": 10,
   "metadata": {
    "execution": {
     "iopub.execute_input": "2021-09-21T11:37:38.091452Z",
     "iopub.status.busy": "2021-09-21T11:37:38.091066Z",
     "iopub.status.idle": "2021-09-21T11:37:38.092892Z",
     "shell.execute_reply": "2021-09-21T11:37:38.092529Z"
    },
    "scrolled": true
   },
   "outputs": [],
   "source": [
    "# Manual Changes to be done \n",
    "##### ranipet: vellore, thiruvallur, kanchipuram, tiruvannamalai | part of kanchipuram_district\n",
    "##### mumbai: thane | combine mumbai city and mumbai suburban\n",
    "\n",
    "## need to remove kheri and parbhani as asked in question\n",
    "for i in range(len(district_names_from_portal_updated)):\n",
    "    if district_names_from_portal_updated[i]=='parbhani' or district_names_from_portal_updated[i] == 'lakhimpur kheri':\n",
    "        district_names_from_portal_updated[i]='#'\n",
    "\n",
    "district_proxy={}\n",
    "\n",
    "for i in range(len(district_id_list)):\n",
    "    if district_names_from_portal_updated[i]=='#':\n",
    "        district_proxy[district_id_list[i]]=district_names_from_portal_updated[i]\n",
    "    else:\n",
    "        district_proxy[district_id_list[i]]=district_names_from_portal_updated[i]+'/'+district_id_list[i].split('/')[1]\n",
    "\n",
    "\n",
    "data_modified = {}\n",
    "for i in range(len(district_id_list)):\n",
    "    if district_proxy[district_id_list[i]]!='#':\n",
    "        data_modified[district_proxy[district_id_list[i]]]=[]\n",
    "        for j in range(len(data_dict[district_id_list[i]])):\n",
    "            if district_proxy[data_dict[district_id_list[i]][j]]!='#':\n",
    "                data_modified[district_proxy[district_id_list[i]]].append(district_proxy[data_dict[district_id_list[i]][j]])\n",
    "                \n",
    "\n",
    "districts_to_complete_ids = {}\n",
    "for i in range(len(district_names_from_portal_updated)):\n",
    "    districts_to_complete_ids[district_names_from_portal_updated[i]] = district_names_from_portal_updated[i] + '/' + district_id_list[i].split('/')[1]\n",
    "\n",
    "for i in range(len(new_district_names_from_portal)):\n",
    "    districts_to_complete_ids[new_district_names_from_portal[i].split('/')[0]] = new_district_names_from_portal[i]\n",
    "\n",
    "for dis in new_district_names_from_portal:\n",
    "    data_modified[dis] = []\n",
    "    \n",
    "# Manual work\n",
    "\n",
    "for key in data_modified:\n",
    "    if key.split('/')[0]== 'ranipet':\n",
    "        data_modified[key].append(districts_to_complete_ids['vellore'])\n",
    "        data_modified[key].append(districts_to_complete_ids['thiruvallur'])\n",
    "        data_modified[key].append(districts_to_complete_ids['kancheepuram'])\n",
    "        data_modified[key].append(districts_to_complete_ids['tiruvannamalai'])\n",
    "        data_modified[districts_to_complete_ids['vellore']].append(key)\n",
    "        data_modified[districts_to_complete_ids['thiruvallur']].append(key)\n",
    "        data_modified[districts_to_complete_ids['kancheepuram']].append(key)\n",
    "        data_modified[districts_to_complete_ids['tiruvannamalai']].append(key)\n",
    "    elif key.split('/')[0] == 'mumbai':\n",
    "        data_modified[key].append(districts_to_complete_ids['thane'])\n",
    "        data_modified[districts_to_complete_ids['thane']].append(key)\n",
    "    data_modified[key].sort()"
   ]
  },
  {
   "cell_type": "code",
   "execution_count": 11,
   "metadata": {
    "execution": {
     "iopub.execute_input": "2021-09-21T11:37:38.096088Z",
     "iopub.status.busy": "2021-09-21T11:37:38.095740Z",
     "iopub.status.idle": "2021-09-21T11:37:38.097271Z",
     "shell.execute_reply": "2021-09-21T11:37:38.097556Z"
    }
   },
   "outputs": [],
   "source": [
    "district_list_modified = []\n",
    "for i in data_modified:\n",
    "    district_list_modified.append(i)\n",
    "district_list_modified = np.array(district_list_modified)\n",
    "district_list_modified.sort() # sorting districts alphabetically"
   ]
  },
  {
   "cell_type": "markdown",
   "metadata": {},
   "source": [
    "#### Adding modified district names to dictionary keys"
   ]
  },
  {
   "cell_type": "code",
   "execution_count": 12,
   "metadata": {
    "execution": {
     "iopub.execute_input": "2021-09-21T11:37:38.115186Z",
     "iopub.status.busy": "2021-09-21T11:37:38.114809Z",
     "iopub.status.idle": "2021-09-21T11:37:38.473811Z",
     "shell.execute_reply": "2021-09-21T11:37:38.474220Z"
    }
   },
   "outputs": [],
   "source": [
    "modified_json={}\n",
    "for i in range(len(district_list_modified)):\n",
    "    for j in range(len(State_District)):\n",
    "        if district_list_modified[i].split('/')[0]==State_District[j].split('_')[1].lower():\n",
    "            modified_json[district_list_modified[i].split('/')[0] + '/' + State_District[j]] = data_modified[district_list_modified[i]].copy()"
   ]
  },
  {
   "cell_type": "markdown",
   "metadata": {},
   "source": [
    "#### manual modification of repeat name districts\n",
    "- [x] Aurangabad, Bilaspur, Balrampur, Hamirpur, Pratapgarh"
   ]
  },
  {
   "cell_type": "code",
   "execution_count": 13,
   "metadata": {
    "execution": {
     "iopub.execute_input": "2021-09-21T11:37:38.477509Z",
     "iopub.status.busy": "2021-09-21T11:37:38.477150Z",
     "iopub.status.idle": "2021-09-21T11:37:38.478768Z",
     "shell.execute_reply": "2021-09-21T11:37:38.479117Z"
    }
   },
   "outputs": [],
   "source": [
    "modified_json['aurangabad/BR_Aurangabad']=data_modified['aurangabad/Q43086']\n",
    "modified_json['bilaspur/CT_Bilaspur']=data_modified['bilaspur/Q100157']\n",
    "modified_json['balrampur/CT_Balrampur']=data_modified['balrampur/Q16056268']\n",
    "modified_json['hamirpur/UP_Hamirpur']=data_modified['hamirpur/Q2019757']\n",
    "modified_json['pratapgarh/UP_Pratapgarh']=data_modified['pratapgarh/Q1473962']"
   ]
  },
  {
   "cell_type": "markdown",
   "metadata": {},
   "source": [
    "#### Adding modified district values to dictionary keys"
   ]
  },
  {
   "cell_type": "code",
   "execution_count": 14,
   "metadata": {
    "execution": {
     "iopub.execute_input": "2021-09-21T11:37:38.485936Z",
     "iopub.status.busy": "2021-09-21T11:37:38.480769Z",
     "iopub.status.idle": "2021-09-21T11:37:39.022958Z",
     "shell.execute_reply": "2021-09-21T11:37:39.022520Z"
    }
   },
   "outputs": [],
   "source": [
    "for key in modified_json:\n",
    "    for i in range(len(modified_json[key])):\n",
    "        for j in range(len(State_District)):\n",
    "            if modified_json[key][i].split('/')[0]==State_District[j].split('_')[1].lower():\n",
    "                \n",
    "                modified_json[key][i]=modified_json[key][i].split('/')[0] + '/' + State_District[j]\n",
    "                break"
   ]
  },
  {
   "cell_type": "markdown",
   "metadata": {},
   "source": [
    "#### Dumping modified district json"
   ]
  },
  {
   "cell_type": "code",
   "execution_count": 15,
   "metadata": {
    "execution": {
     "iopub.execute_input": "2021-09-21T11:37:39.025682Z",
     "iopub.status.busy": "2021-09-21T11:37:39.024675Z",
     "iopub.status.idle": "2021-09-21T11:37:39.030853Z",
     "shell.execute_reply": "2021-09-21T11:37:39.030530Z"
    }
   },
   "outputs": [],
   "source": [
    "with open(\"neighbor-districts-modified.json\", \"w\") as outfile:  \n",
    "    json.dump(modified_json, outfile, indent = 4) "
   ]
  }
 ],
 "metadata": {
  "kernelspec": {
   "display_name": "Python 3 (ipykernel)",
   "language": "python",
   "name": "python3"
  },
  "language_info": {
   "codemirror_mode": {
    "name": "ipython",
    "version": 3
   },
   "file_extension": ".py",
   "mimetype": "text/x-python",
   "name": "python",
   "nbconvert_exporter": "python",
   "pygments_lexer": "ipython3",
   "version": "3.8.5"
  }
 },
 "nbformat": 4,
 "nbformat_minor": 4
}
